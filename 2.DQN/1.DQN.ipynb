{
 "cells": [
  {
   "cell_type": "markdown",
   "id": "ade0633c",
   "metadata": {},
   "source": [
    "QLearning使用表格估计Q函数,不便于扩展.\n",
    "\n",
    "所以使用神经网络估计Q函数."
   ]
  },
  {
   "cell_type": "code",
   "execution_count": 21,
   "id": "91162df8",
   "metadata": {},
   "outputs": [
    {
     "data": {
      "image/png": "[encoded data removed]",
      "text/plain": [
       "<Figure size 300x300 with 1 Axes>"
      ]
     },
     "metadata": {},
     "output_type": "display_data"
    }
   ],
   "source": [
    "import gym\n",
    "from typing import Tuple,Any\n",
    "\n",
    "# 定义环境\n",
    "\n",
    "\n",
    "class MyWrapper(gym.Wrapper):\n",
    "    \"\"\"\n",
    "    自定义环境包装器类，继承自gym.Wrapper。\n",
    "    \"\"\"\n",
    "\n",
    "    def __init__(self):\n",
    "        \"\"\"\n",
    "        初始化方法。\n",
    "        \"\"\"\n",
    "        env: gym.Env = gym.make('CartPole-v1', render_mode='rgb_array')\n",
    "        super().__init__(env)\n",
    "        self.env: gym.Env = env\n",
    "        self.step_n: int = 0\n",
    "\n",
    "    def reset(self)->Any:\n",
    "        \"\"\"\n",
    "        重置环境状态。\n",
    "\n",
    "        Returns:\n",
    "            Tuple: 初始状态。\n",
    "        \"\"\"\n",
    "        state, _ = self.env.reset()\n",
    "        return state\n",
    "\n",
    "    def step(self, action: int) -> Tuple:\n",
    "        \"\"\"\n",
    "        执行动作并更新环境状态。\n",
    "\n",
    "        Args:\n",
    "            action (int): 动作。\n",
    "\n",
    "        Returns:\n",
    "            Tuple: 下一个状态、奖励、是否结束的标志。\n",
    "        \"\"\"\n",
    "        state, reward, terminated, truncated, info = self.env.step(action)\n",
    "        over: bool = terminated or truncated\n",
    "\n",
    "        # 限制最大步数\n",
    "        self.step_n += 1\n",
    "        if self.step_n >= 200:\n",
    "            over = True\n",
    "\n",
    "        # 没坚持到最后,扣分\n",
    "        if over and self.step_n < 200:\n",
    "            reward = -1000\n",
    "\n",
    "        return state, reward, over\n",
    "\n",
    "    def show(self) -> None:\n",
    "        \"\"\"\n",
    "        显示游戏图像。\n",
    "        \"\"\"\n",
    "        from matplotlib import pyplot as plt\n",
    "        plt.figure(figsize=(3, 3))\n",
    "        plt.imshow(self.env.render())\n",
    "        plt.show()\n",
    "\n",
    "\n",
    "env = MyWrapper()\n",
    "\n",
    "env.reset()\n",
    "\n",
    "env.show()"
   ]
  },
  {
   "cell_type": "code",
   "execution_count": 22,
   "id": "ecfbe912",
   "metadata": {},
   "outputs": [
    {
     "data": {
      "text/plain": [
       "Sequential(\n",
       "  (0): Linear(in_features=4, out_features=64, bias=True)\n",
       "  (1): ReLU()\n",
       "  (2): Linear(in_features=64, out_features=64, bias=True)\n",
       "  (3): ReLU()\n",
       "  (4): Linear(in_features=64, out_features=2, bias=True)\n",
       ")"
      ]
     },
     "execution_count": 22,
     "metadata": {},
     "output_type": "execute_result"
    }
   ],
   "source": [
    "import torch\n",
    "\n",
    "#定义模型,评估状态下每个动作的价值\n",
    "model = torch.nn.Sequential(\n",
    "    torch.nn.Linear(4, 64),\n",
    "    torch.nn.ReLU(),\n",
    "    torch.nn.Linear(64, 64),\n",
    "    torch.nn.ReLU(),\n",
    "    torch.nn.Linear(64, 2),\n",
    ")\n",
    "\n",
    "model"
   ]
  },
  {
   "cell_type": "code",
   "execution_count": 23,
   "id": "84cbf0ff",
   "metadata": {
    "scrolled": true
   },
   "outputs": [
    {
     "name": "stderr",
     "output_type": "stream",
     "text": [
      "e:\\Miniconda3\\envs\\RL\\Lib\\site-packages\\gym\\utils\\passive_env_checker.py:233: DeprecationWarning: `np.bool8` is a deprecated alias for `np.bool_`.  (Deprecated NumPy 1.24)\n",
      "  if not isinstance(terminated, (bool, np.bool8)):\n"
     ]
    },
    {
     "data": {
      "text/plain": [
       "-990.0"
      ]
     },
     "execution_count": 23,
     "metadata": {},
     "output_type": "execute_result"
    }
   ],
   "source": [
    "from IPython import display\n",
    "import random\n",
    "\n",
    "\n",
    "#玩一局游戏并记录数据\n",
    "def play(show=False):\n",
    "    data = []\n",
    "    reward_sum = 0\n",
    "\n",
    "    state = env.reset()\n",
    "    over = False\n",
    "    while not over:\n",
    "        action = model(torch.FloatTensor(state).reshape(1, 4)).argmax().item()\n",
    "        if random.random() < 0.1:\n",
    "            action = env.action_space.sample()\n",
    "\n",
    "        next_state, reward, over = env.step(action)\n",
    "        data.append((state, action, reward, next_state, over))\n",
    "        # print(state, action, reward, next_state)\n",
    "        reward_sum += reward\n",
    "\n",
    "        state = next_state\n",
    "\n",
    "        if show:\n",
    "            display.clear_output(wait=True)\n",
    "            env.show()\n",
    "\n",
    "    return data, reward_sum\n",
    "\n",
    "\n",
    "play()[-1]"
   ]
  },
  {
   "cell_type": "code",
   "execution_count": 24,
   "id": "95ce610e",
   "metadata": {},
   "outputs": [
    {
     "data": {
      "text/plain": [
       "(200,\n",
       " (array([ 0.04311174,  0.01471398, -0.04277565, -0.02047319], dtype=float32),\n",
       "  1,\n",
       "  1.0,\n",
       "  array([ 0.04340602,  0.21042244, -0.04318511, -0.32633957], dtype=float32),\n",
       "  False))"
      ]
     },
     "execution_count": 24,
     "metadata": {},
     "output_type": "execute_result"
    }
   ],
   "source": [
    "from typing import List, Tuple\n",
    "import random\n",
    "import torch\n",
    "\n",
    "#数据池\n",
    "class Pool:\n",
    "\n",
    "    def __init__(self):\n",
    "        self.pool: List[Tuple] = []\n",
    "\n",
    "    def __len__(self) -> int:\n",
    "        return len(self.pool)\n",
    "\n",
    "    def __getitem__(self, i: int) -> Tuple:\n",
    "        return self.pool[i]\n",
    "\n",
    "    #更新动作池\n",
    "    def update(self) -> None:\n",
    "        #每次更新不少于N条新数据\n",
    "        old_len = len(self.pool)\n",
    "        while len(self.pool) - old_len < 200:\n",
    "            self.pool.extend(play()[0])\n",
    "\n",
    "        #只保留最新的N条数据\n",
    "        self.pool = self.pool[-2_0000:]\n",
    "\n",
    "    #获取一批数据样本\n",
    "    def sample(self) -> Tuple[torch.Tensor, torch.Tensor, torch.Tensor, torch.Tensor, torch.Tensor]:\n",
    "        data = random.sample(self.pool, 64)\n",
    "\n",
    "        state = torch.FloatTensor([i[0] for i in data]).reshape(-1, 4)\n",
    "        action = torch.LongTensor([i[1] for i in data]).reshape(-1, 1)\n",
    "        reward = torch.FloatTensor([i[2] for i in data]).reshape(-1, 1)\n",
    "        next_state = torch.FloatTensor([i[3] for i in data]).reshape(-1, 4)\n",
    "        over = torch.LongTensor([i[4] for i in data]).reshape(-1, 1)\n",
    "\n",
    "        return state, action, reward, next_state, over\n",
    "\n",
    "\n",
    "pool = Pool()\n",
    "pool.update()\n",
    "pool.sample()\n",
    "\n",
    "len(pool), pool[0]"
   ]
  },
  {
   "cell_type": "code",
   "execution_count": 25,
   "id": "018c4b1e",
   "metadata": {
    "scrolled": true
   },
   "outputs": [
    {
     "name": "stdout",
     "output_type": "stream",
     "text": [
      "0 400 1.0\n",
      "100 20000 1.0\n",
      "200 20000 1.0\n",
      "300 20000 1.0\n",
      "400 20000 1.0\n",
      "500 20000 1.0\n",
      "600 20000 1.0\n",
      "700 20000 1.0\n",
      "800 20000 1.0\n"
     ]
    },
    {
     "ename": "KeyboardInterrupt",
     "evalue": "",
     "output_type": "error",
     "traceback": [
      "\u001b[1;31m---------------------------------------------------------------------------\u001b[0m",
      "\u001b[1;31mKeyboardInterrupt\u001b[0m                         Traceback (most recent call last)",
      "\u001b[1;32me:\\2024Spring\\DRL\\resources\\More_Simple_Reinforcement_Learning\\2.DQN\\1.DQN.ipynb 单元格 6\u001b[0m line \u001b[0;36m3\n\u001b[0;32m     <a href='vscode-notebook-cell:/e%3A/2024Spring/DRL/resources/More_Simple_Reinforcement_Learning/2.DQN/1.DQN.ipynb#W5sZmlsZQ%3D%3D?line=31'>32</a>\u001b[0m             test_result \u001b[39m=\u001b[39m \u001b[39msum\u001b[39m([play()[\u001b[39m-\u001b[39m\u001b[39m1\u001b[39m] \u001b[39mfor\u001b[39;00m _ \u001b[39min\u001b[39;00m \u001b[39mrange\u001b[39m(\u001b[39m20\u001b[39m)]) \u001b[39m/\u001b[39m \u001b[39m20\u001b[39m\n\u001b[0;32m     <a href='vscode-notebook-cell:/e%3A/2024Spring/DRL/resources/More_Simple_Reinforcement_Learning/2.DQN/1.DQN.ipynb#W5sZmlsZQ%3D%3D?line=32'>33</a>\u001b[0m             \u001b[39mprint\u001b[39m(epoch, \u001b[39mlen\u001b[39m(pool), test_result)\n\u001b[1;32m---> <a href='vscode-notebook-cell:/e%3A/2024Spring/DRL/resources/More_Simple_Reinforcement_Learning/2.DQN/1.DQN.ipynb#W5sZmlsZQ%3D%3D?line=35'>36</a>\u001b[0m train()\n",
      "\u001b[1;32me:\\2024Spring\\DRL\\resources\\More_Simple_Reinforcement_Learning\\2.DQN\\1.DQN.ipynb 单元格 6\u001b[0m line \u001b[0;36m2\n\u001b[0;32m     <a href='vscode-notebook-cell:/e%3A/2024Spring/DRL/resources/More_Simple_Reinforcement_Learning/2.DQN/1.DQN.ipynb#W5sZmlsZQ%3D%3D?line=20'>21</a>\u001b[0m \u001b[39mwith\u001b[39;00m torch\u001b[39m.\u001b[39mno_grad():\n\u001b[0;32m     <a href='vscode-notebook-cell:/e%3A/2024Spring/DRL/resources/More_Simple_Reinforcement_Learning/2.DQN/1.DQN.ipynb#W5sZmlsZQ%3D%3D?line=21'>22</a>\u001b[0m     target \u001b[39m=\u001b[39m model(next_state)\n\u001b[1;32m---> <a href='vscode-notebook-cell:/e%3A/2024Spring/DRL/resources/More_Simple_Reinforcement_Learning/2.DQN/1.DQN.ipynb#W5sZmlsZQ%3D%3D?line=22'>23</a>\u001b[0m target \u001b[39m=\u001b[39m target\u001b[39m.\u001b[39;49mmax(dim\u001b[39m=\u001b[39;49m\u001b[39m1\u001b[39;49m)[\u001b[39m0\u001b[39m]\u001b[39m.\u001b[39mreshape(\u001b[39m-\u001b[39m\u001b[39m1\u001b[39m, \u001b[39m1\u001b[39m)\n\u001b[0;32m     <a href='vscode-notebook-cell:/e%3A/2024Spring/DRL/resources/More_Simple_Reinforcement_Learning/2.DQN/1.DQN.ipynb#W5sZmlsZQ%3D%3D?line=23'>24</a>\u001b[0m target \u001b[39m=\u001b[39m target \u001b[39m*\u001b[39m \u001b[39m0.99\u001b[39m \u001b[39m*\u001b[39m (\u001b[39m1\u001b[39m \u001b[39m-\u001b[39m over) \u001b[39m+\u001b[39m reward\n\u001b[0;32m     <a href='vscode-notebook-cell:/e%3A/2024Spring/DRL/resources/More_Simple_Reinforcement_Learning/2.DQN/1.DQN.ipynb#W5sZmlsZQ%3D%3D?line=25'>26</a>\u001b[0m loss \u001b[39m=\u001b[39m loss_fn(value, target)\n",
      "\u001b[1;31mKeyboardInterrupt\u001b[0m: "
     ]
    }
   ],
   "source": [
    "#训练\n",
    "def train():\n",
    "    model.train()\n",
    "    optimizer = torch.optim.Adam(model.parameters(), lr=2e-4)\n",
    "    loss_fn = torch.nn.MSELoss()\n",
    "\n",
    "    #共更新N轮数据\n",
    "    for epoch in range(1000):\n",
    "        pool.update()\n",
    "\n",
    "        #每次更新数据后,训练N次\n",
    "        for i in range(200):\n",
    "\n",
    "            #采样N条数据\n",
    "            state, action, reward, next_state, over = pool.sample()\n",
    "\n",
    "            #计算value\n",
    "            value = model(state).gather(dim=1, index=action)\n",
    "\n",
    "            #计算target\n",
    "            with torch.no_grad():\n",
    "                target = model(next_state)\n",
    "            target = target.max(dim=1)[0].reshape(-1, 1)\n",
    "            target = target * 0.99 * (1 - over) + reward\n",
    "\n",
    "            loss = loss_fn(value, target)\n",
    "            loss.backward()\n",
    "            optimizer.step()\n",
    "            optimizer.zero_grad()\n",
    "\n",
    "        if epoch % 100 == 0:\n",
    "            test_result = sum([play()[-1] for _ in range(20)]) / 20\n",
    "            print(epoch, len(pool), test_result)\n",
    "\n",
    "\n",
    "train()"
   ]
  },
  {
   "cell_type": "code",
   "execution_count": null,
   "id": "a101d0e6",
   "metadata": {},
   "outputs": [
    {
     "data": {
      "image/png": "[encoded data removed]",
      "text/plain": [
       "<Figure size 300x300 with 1 Axes>"
      ]
     },
     "metadata": {},
     "output_type": "display_data"
    },
    {
     "data": {
      "text/plain": [
       "1.0"
      ]
     },
     "execution_count": 20,
     "metadata": {},
     "output_type": "execute_result"
    }
   ],
   "source": [
    "play(True)[-1]"
   ]
  },
  {
   "cell_type": "code",
   "execution_count": null,
   "metadata": {},
   "outputs": [],
   "source": []
  }
 ],
 "metadata": {
  "kernelspec": {
   "display_name": "RL",
   "language": "python",
   "name": "python3"
  },
  "language_info": {
   "codemirror_mode": {
    "name": "ipython",
    "version": 3
   },
   "file_extension": ".py",
   "mimetype": "text/x-python",
   "name": "python",
   "nbconvert_exporter": "python",
   "pygments_lexer": "ipython3",
   "version": "3.11.8"
  }
 },
 "nbformat": 4,
 "nbformat_minor": 5
}
